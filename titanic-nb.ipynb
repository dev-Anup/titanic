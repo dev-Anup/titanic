{
 "cells": [
  {
   "cell_type": "code",
   "execution_count": 1,
   "metadata": {
    "execution": {
     "iopub.execute_input": "2021-03-02T16:28:55.687217Z",
     "iopub.status.busy": "2021-03-02T16:28:55.686440Z",
     "iopub.status.idle": "2021-03-02T16:28:57.233002Z",
     "shell.execute_reply": "2021-03-02T16:28:57.233536Z"
    },
    "papermill": {
     "duration": 1.576035,
     "end_time": "2021-03-02T16:28:57.233965",
     "exception": false,
     "start_time": "2021-03-02T16:28:55.657930",
     "status": "completed"
    },
    "tags": []
   },
   "outputs": [],
   "source": [
    "import joblib\n",
    "import pandas as pd\n",
    "import numpy as np\n",
    "import seaborn as sns\n",
    "import matplotlib.pyplot as plt\n",
    "from sklearn.metrics import mean_squared_error\n",
    "from sklearn.linear_model import SGDClassifier\n",
    "from sklearn.preprocessing import StandardScaler\n",
    "from sklearn.model_selection import train_test_split"
   ]
  },
  {
   "cell_type": "code",
   "execution_count": 2,
   "metadata": {
    "execution": {
     "iopub.execute_input": "2021-03-02T16:28:57.275652Z",
     "iopub.status.busy": "2021-03-02T16:28:57.274894Z",
     "iopub.status.idle": "2021-03-02T16:28:57.317603Z",
     "shell.execute_reply": "2021-03-02T16:28:57.318212Z"
    },
    "papermill": {
     "duration": 0.065196,
     "end_time": "2021-03-02T16:28:57.318475",
     "exception": false,
     "start_time": "2021-03-02T16:28:57.253279",
     "status": "completed"
    },
    "tags": []
   },
   "outputs": [],
   "source": [
    "df = pd.read_csv('../input/titanic/train.csv')\n",
    "df_test = pd.read_csv('../input/titanic/test.csv')"
   ]
  },
  {
   "cell_type": "code",
   "execution_count": 3,
   "metadata": {
    "execution": {
     "iopub.execute_input": "2021-03-02T16:28:57.360277Z",
     "iopub.status.busy": "2021-03-02T16:28:57.359495Z",
     "iopub.status.idle": "2021-03-02T16:28:57.366826Z",
     "shell.execute_reply": "2021-03-02T16:28:57.366265Z"
    },
    "papermill": {
     "duration": 0.029593,
     "end_time": "2021-03-02T16:28:57.367008",
     "exception": false,
     "start_time": "2021-03-02T16:28:57.337415",
     "status": "completed"
    },
    "tags": []
   },
   "outputs": [],
   "source": [
    "def screen_data(df):\n",
    "    print('-'*40)\n",
    "    print('Columns : ',df.columns.to_list())\n",
    "    print('-'*40)\n",
    "    print('Total entries : ',df.shape[0])\n",
    "    print('-'*40)\n",
    "    print('Missing Values in the columns : \\n')\n",
    "    print(df.isnull().sum())\n",
    "    print('-'*40)\n",
    "    print('Unique Value Counts : \\n')\n",
    "    print(df.nunique())\n",
    "    print('-'*40)"
   ]
  },
  {
   "cell_type": "code",
   "execution_count": 4,
   "metadata": {
    "execution": {
     "iopub.execute_input": "2021-03-02T16:28:57.412021Z",
     "iopub.status.busy": "2021-03-02T16:28:57.411298Z",
     "iopub.status.idle": "2021-03-02T16:28:57.436337Z",
     "shell.execute_reply": "2021-03-02T16:28:57.436862Z"
    },
    "papermill": {
     "duration": 0.050915,
     "end_time": "2021-03-02T16:28:57.437078",
     "exception": false,
     "start_time": "2021-03-02T16:28:57.386163",
     "status": "completed"
    },
    "tags": []
   },
   "outputs": [
    {
     "name": "stdout",
     "output_type": "stream",
     "text": [
      "----------------------------------------\n",
      "Columns :  ['PassengerId', 'Survived', 'Pclass', 'Name', 'Sex', 'Age', 'SibSp', 'Parch', 'Ticket', 'Fare', 'Cabin', 'Embarked']\n",
      "----------------------------------------\n",
      "Total entries :  891\n",
      "----------------------------------------\n",
      "Missing Values in the columns : \n",
      "\n",
      "PassengerId      0\n",
      "Survived         0\n",
      "Pclass           0\n",
      "Name             0\n",
      "Sex              0\n",
      "Age            177\n",
      "SibSp            0\n",
      "Parch            0\n",
      "Ticket           0\n",
      "Fare             0\n",
      "Cabin          687\n",
      "Embarked         2\n",
      "dtype: int64\n",
      "----------------------------------------\n",
      "Unique Value Counts : \n",
      "\n",
      "PassengerId    891\n",
      "Survived         2\n",
      "Pclass           3\n",
      "Name           891\n",
      "Sex              2\n",
      "Age             88\n",
      "SibSp            7\n",
      "Parch            7\n",
      "Ticket         681\n",
      "Fare           248\n",
      "Cabin          147\n",
      "Embarked         3\n",
      "dtype: int64\n",
      "----------------------------------------\n"
     ]
    }
   ],
   "source": [
    "screen_data(df)"
   ]
  },
  {
   "cell_type": "code",
   "execution_count": 5,
   "metadata": {
    "execution": {
     "iopub.execute_input": "2021-03-02T16:28:57.498954Z",
     "iopub.status.busy": "2021-03-02T16:28:57.496586Z",
     "iopub.status.idle": "2021-03-02T16:28:57.507624Z",
     "shell.execute_reply": "2021-03-02T16:28:57.508649Z"
    },
    "papermill": {
     "duration": 0.050932,
     "end_time": "2021-03-02T16:28:57.509030",
     "exception": false,
     "start_time": "2021-03-02T16:28:57.458098",
     "status": "completed"
    },
    "tags": []
   },
   "outputs": [
    {
     "name": "stdout",
     "output_type": "stream",
     "text": [
      "----------------------------------------\n",
      "Columns :  ['PassengerId', 'Pclass', 'Name', 'Sex', 'Age', 'SibSp', 'Parch', 'Ticket', 'Fare', 'Cabin', 'Embarked']\n",
      "----------------------------------------\n",
      "Total entries :  418\n",
      "----------------------------------------\n",
      "Missing Values in the columns : \n",
      "\n",
      "PassengerId      0\n",
      "Pclass           0\n",
      "Name             0\n",
      "Sex              0\n",
      "Age             86\n",
      "SibSp            0\n",
      "Parch            0\n",
      "Ticket           0\n",
      "Fare             1\n",
      "Cabin          327\n",
      "Embarked         0\n",
      "dtype: int64\n",
      "----------------------------------------\n",
      "Unique Value Counts : \n",
      "\n",
      "PassengerId    418\n",
      "Pclass           3\n",
      "Name           418\n",
      "Sex              2\n",
      "Age             79\n",
      "SibSp            7\n",
      "Parch            8\n",
      "Ticket         363\n",
      "Fare           169\n",
      "Cabin           76\n",
      "Embarked         3\n",
      "dtype: int64\n",
      "----------------------------------------\n"
     ]
    }
   ],
   "source": [
    "screen_data(df_test)"
   ]
  },
  {
   "cell_type": "code",
   "execution_count": 6,
   "metadata": {
    "execution": {
     "iopub.execute_input": "2021-03-02T16:28:57.575858Z",
     "iopub.status.busy": "2021-03-02T16:28:57.570277Z",
     "iopub.status.idle": "2021-03-02T16:28:57.581075Z",
     "shell.execute_reply": "2021-03-02T16:28:57.581667Z"
    },
    "papermill": {
     "duration": 0.047022,
     "end_time": "2021-03-02T16:28:57.581953",
     "exception": false,
     "start_time": "2021-03-02T16:28:57.534931",
     "status": "completed"
    },
    "tags": []
   },
   "outputs": [
    {
     "data": {
      "text/plain": [
       "0    549\n",
       "1    342\n",
       "Name: Survived, dtype: int64"
      ]
     },
     "execution_count": 6,
     "metadata": {},
     "output_type": "execute_result"
    }
   ],
   "source": [
    "df['Survived'].value_counts()"
   ]
  },
  {
   "cell_type": "code",
   "execution_count": 7,
   "metadata": {
    "execution": {
     "iopub.execute_input": "2021-03-02T16:28:57.639207Z",
     "iopub.status.busy": "2021-03-02T16:28:57.638385Z",
     "iopub.status.idle": "2021-03-02T16:28:57.641806Z",
     "shell.execute_reply": "2021-03-02T16:28:57.641133Z"
    },
    "papermill": {
     "duration": 0.038188,
     "end_time": "2021-03-02T16:28:57.641980",
     "exception": false,
     "start_time": "2021-03-02T16:28:57.603792",
     "status": "completed"
    },
    "tags": []
   },
   "outputs": [],
   "source": [
    "def feature_process(df):\n",
    "    df['Embarked'].fillna(df['Embarked'].mode(), inplace=True)  # Fix missing values in Embarked if any\n",
    "    df['Fare'].fillna(df['Fare'].mean() , inplace=True)  # Fix missing values in Fare\n",
    "    df['Age'].fillna(df['Age'].median() , inplace=True)  # Put median value for Age\n",
    "    \n",
    "    if 'Cabin' in df.columns:\n",
    "        df.drop('Cabin', axis = 1, inplace = True)  # drop Cabin Column\n",
    "    \n",
    "    if 'Ticket' in df.columns:\n",
    "        df.drop('Ticket', axis = 1, inplace = True)  # drop Ticket Column , being a ticket number it has no relevance\n",
    "    \n",
    "    df['Age_cd'] = pd.cut(df['Age'], 10, precision=0).astype('category').cat.codes  # new Column to bucket the age ranges and putting code for it\n",
    "    \n",
    "\n",
    "#     df['Fare_range'] = pd.cut(df_train['Fare'], 10, precision=0)  # new Column\n",
    "    \n",
    "    df['Embarked_cd'] = df['Embarked'].astype('category').cat.codes # new Column\n",
    "    \n",
    "#     df['Title_cd'] = df['Name'].map(check_title).astype('category').cat.codes # new Column\n",
    "    \n",
    "    df['Sex_cd'] = df['Sex'].astype('category').cat.codes  # Change sex to codes\n",
    "           \n",
    "    print(\"Preprocessing on the data complete ..\")"
   ]
  },
  {
   "cell_type": "code",
   "execution_count": 8,
   "metadata": {
    "execution": {
     "iopub.execute_input": "2021-03-02T16:28:57.692301Z",
     "iopub.status.busy": "2021-03-02T16:28:57.688917Z",
     "iopub.status.idle": "2021-03-02T16:28:57.724692Z",
     "shell.execute_reply": "2021-03-02T16:28:57.724050Z"
    },
    "papermill": {
     "duration": 0.062119,
     "end_time": "2021-03-02T16:28:57.724859",
     "exception": false,
     "start_time": "2021-03-02T16:28:57.662740",
     "status": "completed"
    },
    "tags": []
   },
   "outputs": [
    {
     "name": "stdout",
     "output_type": "stream",
     "text": [
      "Preprocessing on the data complete ..\n",
      "Preprocessing on the data complete ..\n"
     ]
    }
   ],
   "source": [
    "feature_process(df)\n",
    "feature_process(df_test)"
   ]
  },
  {
   "cell_type": "code",
   "execution_count": 9,
   "metadata": {
    "execution": {
     "iopub.execute_input": "2021-03-02T16:28:57.772401Z",
     "iopub.status.busy": "2021-03-02T16:28:57.771686Z",
     "iopub.status.idle": "2021-03-02T16:28:57.788692Z",
     "shell.execute_reply": "2021-03-02T16:28:57.788089Z"
    },
    "papermill": {
     "duration": 0.043006,
     "end_time": "2021-03-02T16:28:57.788861",
     "exception": false,
     "start_time": "2021-03-02T16:28:57.745855",
     "status": "completed"
    },
    "tags": []
   },
   "outputs": [
    {
     "name": "stdout",
     "output_type": "stream",
     "text": [
      "----------------------------------------\n",
      "Columns :  ['PassengerId', 'Survived', 'Pclass', 'Name', 'Sex', 'Age', 'SibSp', 'Parch', 'Fare', 'Embarked', 'Age_cd', 'Embarked_cd', 'Sex_cd']\n",
      "----------------------------------------\n",
      "Total entries :  891\n",
      "----------------------------------------\n",
      "Missing Values in the columns : \n",
      "\n",
      "PassengerId    0\n",
      "Survived       0\n",
      "Pclass         0\n",
      "Name           0\n",
      "Sex            0\n",
      "Age            0\n",
      "SibSp          0\n",
      "Parch          0\n",
      "Fare           0\n",
      "Embarked       2\n",
      "Age_cd         0\n",
      "Embarked_cd    0\n",
      "Sex_cd         0\n",
      "dtype: int64\n",
      "----------------------------------------\n",
      "Unique Value Counts : \n",
      "\n",
      "PassengerId    891\n",
      "Survived         2\n",
      "Pclass           3\n",
      "Name           891\n",
      "Sex              2\n",
      "Age             88\n",
      "SibSp            7\n",
      "Parch            7\n",
      "Fare           248\n",
      "Embarked         3\n",
      "Age_cd          10\n",
      "Embarked_cd      4\n",
      "Sex_cd           2\n",
      "dtype: int64\n",
      "----------------------------------------\n"
     ]
    }
   ],
   "source": [
    "screen_data(df)"
   ]
  },
  {
   "cell_type": "code",
   "execution_count": 10,
   "metadata": {
    "execution": {
     "iopub.execute_input": "2021-03-02T16:28:57.845218Z",
     "iopub.status.busy": "2021-03-02T16:28:57.839310Z",
     "iopub.status.idle": "2021-03-02T16:28:59.970620Z",
     "shell.execute_reply": "2021-03-02T16:28:59.971191Z"
    },
    "papermill": {
     "duration": 2.161063,
     "end_time": "2021-03-02T16:28:59.971406",
     "exception": false,
     "start_time": "2021-03-02T16:28:57.810343",
     "status": "completed"
    },
    "tags": []
   },
   "outputs": [
    {
     "data": {
      "image/png": "[encoded data removed]",
      "text/plain": [
       "<Figure size 1296x720 with 2 Axes>"
      ]
     },
     "metadata": {
      "needs_background": "light"
     },
     "output_type": "display_data"
    }
   ],
   "source": [
    "h = sns.heatmap(pd.get_dummies(df[['Survived', 'Pclass', 'Sex', 'Age_cd']], \n",
    "               columns=['Survived', 'Pclass', 'Sex', 'Age_cd']).corr(),\n",
    "           annot=True,cmap='RdYlGn_r',linewidths=0.2)\n",
    "\n",
    "fig=plt.gcf()\n",
    "\n",
    "h.set_title('Correlation on Various key Features in consideration')\n",
    "\n",
    "fig.set_size_inches([18,10])\n",
    "\n",
    "plt.show()"
   ]
  },
  {
   "cell_type": "code",
   "execution_count": 11,
   "metadata": {
    "execution": {
     "iopub.execute_input": "2021-03-02T16:29:00.034693Z",
     "iopub.status.busy": "2021-03-02T16:29:00.033892Z",
     "iopub.status.idle": "2021-03-02T16:29:00.037930Z",
     "shell.execute_reply": "2021-03-02T16:29:00.036813Z"
    },
    "papermill": {
     "duration": 0.039788,
     "end_time": "2021-03-02T16:29:00.038142",
     "exception": false,
     "start_time": "2021-03-02T16:28:59.998354",
     "status": "completed"
    },
    "tags": []
   },
   "outputs": [],
   "source": [
    "# X = pd.DataFrame(df, columns=['Fare','Parch'])\n",
    "features = ['Pclass', 'SibSp', 'Parch', 'Fare',  'Age_cd', 'Sex_cd', 'Embarked_cd']\n",
    "X = pd.DataFrame(df[features])\n",
    "y = pd.DataFrame(df, columns=['Survived'])"
   ]
  },
  {
   "cell_type": "code",
   "execution_count": 12,
   "metadata": {
    "execution": {
     "iopub.execute_input": "2021-03-02T16:29:00.104995Z",
     "iopub.status.busy": "2021-03-02T16:29:00.104098Z",
     "iopub.status.idle": "2021-03-02T16:29:00.108953Z",
     "shell.execute_reply": "2021-03-02T16:29:00.108225Z"
    },
    "papermill": {
     "duration": 0.043418,
     "end_time": "2021-03-02T16:29:00.109127",
     "exception": false,
     "start_time": "2021-03-02T16:29:00.065709",
     "status": "completed"
    },
    "tags": []
   },
   "outputs": [],
   "source": [
    "X_oe = pd.get_dummies(X)"
   ]
  },
  {
   "cell_type": "code",
   "execution_count": 13,
   "metadata": {
    "execution": {
     "iopub.execute_input": "2021-03-02T16:29:00.171694Z",
     "iopub.status.busy": "2021-03-02T16:29:00.170610Z",
     "iopub.status.idle": "2021-03-02T16:29:00.175459Z",
     "shell.execute_reply": "2021-03-02T16:29:00.176032Z"
    },
    "papermill": {
     "duration": 0.040038,
     "end_time": "2021-03-02T16:29:00.176244",
     "exception": false,
     "start_time": "2021-03-02T16:29:00.136206",
     "status": "completed"
    },
    "tags": []
   },
   "outputs": [],
   "source": [
    "X_train, X_test, y_train, y_test = train_test_split(X_oe, y)"
   ]
  },
  {
   "cell_type": "code",
   "execution_count": 14,
   "metadata": {
    "execution": {
     "iopub.execute_input": "2021-03-02T16:29:00.237175Z",
     "iopub.status.busy": "2021-03-02T16:29:00.236445Z",
     "iopub.status.idle": "2021-03-02T16:29:00.240657Z",
     "shell.execute_reply": "2021-03-02T16:29:00.240104Z"
    },
    "papermill": {
     "duration": 0.037648,
     "end_time": "2021-03-02T16:29:00.240813",
     "exception": false,
     "start_time": "2021-03-02T16:29:00.203165",
     "status": "completed"
    },
    "tags": []
   },
   "outputs": [
    {
     "name": "stdout",
     "output_type": "stream",
     "text": [
      "(668, 7)\n",
      "(223, 7)\n",
      "(668, 1)\n",
      "(223, 1)\n"
     ]
    }
   ],
   "source": [
    "print(X_train.shape)\n",
    "print(X_test.shape)\n",
    "print(y_train.shape)\n",
    "print(y_test.shape)"
   ]
  },
  {
   "cell_type": "code",
   "execution_count": 15,
   "metadata": {
    "execution": {
     "iopub.execute_input": "2021-03-02T16:29:00.301967Z",
     "iopub.status.busy": "2021-03-02T16:29:00.301254Z",
     "iopub.status.idle": "2021-03-02T16:29:00.304803Z",
     "shell.execute_reply": "2021-03-02T16:29:00.305384Z"
    },
    "papermill": {
     "duration": 0.037248,
     "end_time": "2021-03-02T16:29:00.305599",
     "exception": false,
     "start_time": "2021-03-02T16:29:00.268351",
     "status": "completed"
    },
    "tags": []
   },
   "outputs": [],
   "source": [
    "# std = StandardScaler()\n",
    "# X_train = std.fit_transform(X_train)\n",
    "# X_test = std.fit_transform(X_test)"
   ]
  },
  {
   "cell_type": "code",
   "execution_count": 16,
   "metadata": {
    "execution": {
     "iopub.execute_input": "2021-03-02T16:29:00.371093Z",
     "iopub.status.busy": "2021-03-02T16:29:00.370305Z",
     "iopub.status.idle": "2021-03-02T16:29:00.382012Z",
     "shell.execute_reply": "2021-03-02T16:29:00.381226Z"
    },
    "papermill": {
     "duration": 0.048921,
     "end_time": "2021-03-02T16:29:00.382178",
     "exception": false,
     "start_time": "2021-03-02T16:29:00.333257",
     "status": "completed"
    },
    "tags": []
   },
   "outputs": [],
   "source": [
    "clf = SGDClassifier()\n",
    "clf.fit(X_train,y_train.values.ravel())\n",
    "y_pred = clf.predict(X_test)"
   ]
  },
  {
   "cell_type": "code",
   "execution_count": 17,
   "metadata": {
    "execution": {
     "iopub.execute_input": "2021-03-02T16:29:00.445097Z",
     "iopub.status.busy": "2021-03-02T16:29:00.444194Z",
     "iopub.status.idle": "2021-03-02T16:29:00.448529Z",
     "shell.execute_reply": "2021-03-02T16:29:00.447833Z"
    },
    "papermill": {
     "duration": 0.038612,
     "end_time": "2021-03-02T16:29:00.448693",
     "exception": false,
     "start_time": "2021-03-02T16:29:00.410081",
     "status": "completed"
    },
    "tags": []
   },
   "outputs": [
    {
     "data": {
      "text/plain": [
       "array([0, 0, 0, 0, 0, 0, 1, 0, 0, 0, 1, 0, 0, 0, 0, 1, 0, 1, 1, 0, 0, 0,\n",
       "       0, 0, 0, 1, 0, 1, 0, 0, 0, 0, 0, 1, 0, 0, 0, 1, 0, 0, 0, 0, 0, 1,\n",
       "       1, 0, 0, 0, 1, 0, 0, 0, 0, 0, 0, 0, 0, 0, 0, 0, 1, 0, 1, 0, 0, 0,\n",
       "       0, 0, 1, 0, 0, 1, 0, 1, 0, 1, 1, 0, 0, 0, 0, 0, 0, 1, 0, 1, 0, 0,\n",
       "       0, 0, 0, 0, 0, 0, 0, 0, 1, 0, 0, 1, 0, 0, 0, 0, 0, 0, 0, 0, 0, 0,\n",
       "       0, 0, 0, 0, 0, 0, 0, 1, 0, 0, 0, 0, 1, 0, 0, 0, 1, 0, 0, 1, 0, 0,\n",
       "       0, 0, 0, 0, 1, 0, 0, 0, 0, 1, 0, 0, 1, 0, 0, 0, 0, 0, 1, 0, 0, 0,\n",
       "       0, 0, 0, 0, 0, 0, 0, 0, 0, 0, 1, 1, 0, 0, 0, 0, 0, 1, 0, 0, 0, 0,\n",
       "       0, 1, 0, 1, 0, 0, 0, 0, 1, 0, 1, 1, 0, 0, 0, 0, 0, 0, 0, 1, 0, 0,\n",
       "       0, 0, 0, 0, 0, 0, 0, 0, 0, 1, 0, 0, 0, 1, 1, 0, 0, 1, 1, 0, 1, 0,\n",
       "       0, 1, 0])"
      ]
     },
     "execution_count": 17,
     "metadata": {},
     "output_type": "execute_result"
    }
   ],
   "source": [
    "y_pred"
   ]
  },
  {
   "cell_type": "code",
   "execution_count": 18,
   "metadata": {
    "execution": {
     "iopub.execute_input": "2021-03-02T16:29:00.514249Z",
     "iopub.status.busy": "2021-03-02T16:29:00.513422Z",
     "iopub.status.idle": "2021-03-02T16:29:00.516915Z",
     "shell.execute_reply": "2021-03-02T16:29:00.517840Z"
    },
    "papermill": {
     "duration": 0.041234,
     "end_time": "2021-03-02T16:29:00.518162",
     "exception": false,
     "start_time": "2021-03-02T16:29:00.476928",
     "status": "completed"
    },
    "tags": []
   },
   "outputs": [
    {
     "name": "stdout",
     "output_type": "stream",
     "text": [
      "Mean squared error: 0.25\n"
     ]
    }
   ],
   "source": [
    "print(\"Mean squared error: %.2f\" % mean_squared_error(y_test, y_pred))"
   ]
  },
  {
   "cell_type": "code",
   "execution_count": 19,
   "metadata": {
    "execution": {
     "iopub.execute_input": "2021-03-02T16:29:00.587061Z",
     "iopub.status.busy": "2021-03-02T16:29:00.586154Z",
     "iopub.status.idle": "2021-03-02T16:29:00.591068Z",
     "shell.execute_reply": "2021-03-02T16:29:00.590379Z"
    },
    "papermill": {
     "duration": 0.043345,
     "end_time": "2021-03-02T16:29:00.591232",
     "exception": false,
     "start_time": "2021-03-02T16:29:00.547887",
     "status": "completed"
    },
    "tags": []
   },
   "outputs": [
    {
     "data": {
      "text/plain": [
       "0.7533632286995515"
      ]
     },
     "execution_count": 19,
     "metadata": {},
     "output_type": "execute_result"
    }
   ],
   "source": [
    "score = clf.score(X_test, y_test)\n",
    "score"
   ]
  },
  {
   "cell_type": "code",
   "execution_count": 20,
   "metadata": {
    "execution": {
     "iopub.execute_input": "2021-03-02T16:29:00.656954Z",
     "iopub.status.busy": "2021-03-02T16:29:00.656244Z",
     "iopub.status.idle": "2021-03-02T16:29:00.662702Z",
     "shell.execute_reply": "2021-03-02T16:29:00.662058Z"
    },
    "papermill": {
     "duration": 0.042432,
     "end_time": "2021-03-02T16:29:00.662951",
     "exception": false,
     "start_time": "2021-03-02T16:29:00.620519",
     "status": "completed"
    },
    "tags": []
   },
   "outputs": [
    {
     "data": {
      "text/plain": [
       "['titanic_classifier.joblib.pkl']"
      ]
     },
     "execution_count": 20,
     "metadata": {},
     "output_type": "execute_result"
    }
   ],
   "source": [
    "model = 'titanic_classifier.joblib.pkl'\n",
    "joblib.dump(clf, model)"
   ]
  },
  {
   "cell_type": "code",
   "execution_count": 21,
   "metadata": {
    "execution": {
     "iopub.execute_input": "2021-03-02T16:29:00.733628Z",
     "iopub.status.busy": "2021-03-02T16:29:00.732861Z",
     "iopub.status.idle": "2021-03-02T16:29:00.740570Z",
     "shell.execute_reply": "2021-03-02T16:29:00.739827Z"
    },
    "papermill": {
     "duration": 0.046703,
     "end_time": "2021-03-02T16:29:00.740747",
     "exception": false,
     "start_time": "2021-03-02T16:29:00.694044",
     "status": "completed"
    },
    "tags": []
   },
   "outputs": [
    {
     "data": {
      "text/plain": [
       "SGDClassifier()"
      ]
     },
     "execution_count": 21,
     "metadata": {},
     "output_type": "execute_result"
    }
   ],
   "source": [
    "clf2 = joblib.load(model)\n",
    "clf2"
   ]
  },
  {
   "cell_type": "code",
   "execution_count": 22,
   "metadata": {
    "execution": {
     "iopub.execute_input": "2021-03-02T16:29:00.813917Z",
     "iopub.status.busy": "2021-03-02T16:29:00.808031Z",
     "iopub.status.idle": "2021-03-02T16:29:00.817136Z",
     "shell.execute_reply": "2021-03-02T16:29:00.817680Z"
    },
    "papermill": {
     "duration": 0.046783,
     "end_time": "2021-03-02T16:29:00.817894",
     "exception": false,
     "start_time": "2021-03-02T16:29:00.771111",
     "status": "completed"
    },
    "tags": []
   },
   "outputs": [],
   "source": [
    "X_testtest = pd.DataFrame(df_test[features])\n",
    "X_test_oe = pd.get_dummies(X_testtest)"
   ]
  },
  {
   "cell_type": "code",
   "execution_count": 23,
   "metadata": {
    "execution": {
     "iopub.execute_input": "2021-03-02T16:29:00.890844Z",
     "iopub.status.busy": "2021-03-02T16:29:00.888630Z",
     "iopub.status.idle": "2021-03-02T16:29:00.896764Z",
     "shell.execute_reply": "2021-03-02T16:29:00.895849Z"
    },
    "papermill": {
     "duration": 0.048717,
     "end_time": "2021-03-02T16:29:00.896961",
     "exception": false,
     "start_time": "2021-03-02T16:29:00.848244",
     "status": "completed"
    },
    "tags": []
   },
   "outputs": [
    {
     "name": "stdout",
     "output_type": "stream",
     "text": [
      "----------------------------------------\n",
      "Columns :  ['Pclass', 'SibSp', 'Parch', 'Fare', 'Age_cd', 'Sex_cd', 'Embarked_cd']\n",
      "----------------------------------------\n",
      "Total entries :  418\n",
      "----------------------------------------\n",
      "Missing Values in the columns : \n",
      "\n",
      "Pclass         0\n",
      "SibSp          0\n",
      "Parch          0\n",
      "Fare           0\n",
      "Age_cd         0\n",
      "Sex_cd         0\n",
      "Embarked_cd    0\n",
      "dtype: int64\n",
      "----------------------------------------\n",
      "Unique Value Counts : \n",
      "\n",
      "Pclass           3\n",
      "SibSp            7\n",
      "Parch            8\n",
      "Fare           170\n",
      "Age_cd          10\n",
      "Sex_cd           2\n",
      "Embarked_cd      3\n",
      "dtype: int64\n",
      "----------------------------------------\n"
     ]
    }
   ],
   "source": [
    "screen_data(X_test_oe)"
   ]
  },
  {
   "cell_type": "code",
   "execution_count": 24,
   "metadata": {
    "execution": {
     "iopub.execute_input": "2021-03-02T16:29:00.965090Z",
     "iopub.status.busy": "2021-03-02T16:29:00.964112Z",
     "iopub.status.idle": "2021-03-02T16:29:00.967109Z",
     "shell.execute_reply": "2021-03-02T16:29:00.966386Z"
    },
    "papermill": {
     "duration": 0.039178,
     "end_time": "2021-03-02T16:29:00.967282",
     "exception": false,
     "start_time": "2021-03-02T16:29:00.928104",
     "status": "completed"
    },
    "tags": []
   },
   "outputs": [],
   "source": [
    "# X_test_oe['Fare'] = X_test_oe['Fare'].fillna(0)"
   ]
  },
  {
   "cell_type": "code",
   "execution_count": 25,
   "metadata": {
    "execution": {
     "iopub.execute_input": "2021-03-02T16:29:01.037691Z",
     "iopub.status.busy": "2021-03-02T16:29:01.036850Z",
     "iopub.status.idle": "2021-03-02T16:29:01.040736Z",
     "shell.execute_reply": "2021-03-02T16:29:01.040196Z"
    },
    "papermill": {
     "duration": 0.042407,
     "end_time": "2021-03-02T16:29:01.040916",
     "exception": false,
     "start_time": "2021-03-02T16:29:00.998509",
     "status": "completed"
    },
    "tags": []
   },
   "outputs": [],
   "source": [
    "y_predpred = clf2.predict(X_test_oe)"
   ]
  },
  {
   "cell_type": "code",
   "execution_count": 26,
   "metadata": {
    "execution": {
     "iopub.execute_input": "2021-03-02T16:29:01.112803Z",
     "iopub.status.busy": "2021-03-02T16:29:01.112027Z",
     "iopub.status.idle": "2021-03-02T16:29:01.198311Z",
     "shell.execute_reply": "2021-03-02T16:29:01.197699Z"
    },
    "papermill": {
     "duration": 0.125568,
     "end_time": "2021-03-02T16:29:01.198490",
     "exception": false,
     "start_time": "2021-03-02T16:29:01.072922",
     "status": "completed"
    },
    "tags": []
   },
   "outputs": [
    {
     "ename": "ValueError",
     "evalue": "Found input variables with inconsistent numbers of samples: [223, 418]",
     "output_type": "error",
     "traceback": [
      "\u001b[0;31m---------------------------------------------------------------------------\u001b[0m",
      "\u001b[0;31mValueError\u001b[0m                                Traceback (most recent call last)",
      "\u001b[0;32m<ipython-input-26-93b6992c1a53>\u001b[0m in \u001b[0;36m<module>\u001b[0;34m\u001b[0m\n\u001b[0;32m----> 1\u001b[0;31m \u001b[0mclf2\u001b[0m\u001b[0;34m.\u001b[0m\u001b[0mscore\u001b[0m\u001b[0;34m(\u001b[0m\u001b[0mX_test_oe\u001b[0m\u001b[0;34m,\u001b[0m \u001b[0my_test\u001b[0m\u001b[0;34m)\u001b[0m\u001b[0;34m\u001b[0m\u001b[0;34m\u001b[0m\u001b[0m\n\u001b[0m",
      "\u001b[0;32m/opt/conda/lib/python3.7/site-packages/sklearn/base.py\u001b[0m in \u001b[0;36mscore\u001b[0;34m(self, X, y, sample_weight)\u001b[0m\n\u001b[1;32m    498\u001b[0m         \"\"\"\n\u001b[1;32m    499\u001b[0m         \u001b[0;32mfrom\u001b[0m \u001b[0;34m.\u001b[0m\u001b[0mmetrics\u001b[0m \u001b[0;32mimport\u001b[0m \u001b[0maccuracy_score\u001b[0m\u001b[0;34m\u001b[0m\u001b[0;34m\u001b[0m\u001b[0m\n\u001b[0;32m--> 500\u001b[0;31m         \u001b[0;32mreturn\u001b[0m \u001b[0maccuracy_score\u001b[0m\u001b[0;34m(\u001b[0m\u001b[0my\u001b[0m\u001b[0;34m,\u001b[0m \u001b[0mself\u001b[0m\u001b[0;34m.\u001b[0m\u001b[0mpredict\u001b[0m\u001b[0;34m(\u001b[0m\u001b[0mX\u001b[0m\u001b[0;34m)\u001b[0m\u001b[0;34m,\u001b[0m \u001b[0msample_weight\u001b[0m\u001b[0;34m=\u001b[0m\u001b[0msample_weight\u001b[0m\u001b[0;34m)\u001b[0m\u001b[0;34m\u001b[0m\u001b[0;34m\u001b[0m\u001b[0m\n\u001b[0m\u001b[1;32m    501\u001b[0m \u001b[0;34m\u001b[0m\u001b[0m\n\u001b[1;32m    502\u001b[0m     \u001b[0;32mdef\u001b[0m \u001b[0m_more_tags\u001b[0m\u001b[0;34m(\u001b[0m\u001b[0mself\u001b[0m\u001b[0;34m)\u001b[0m\u001b[0;34m:\u001b[0m\u001b[0;34m\u001b[0m\u001b[0;34m\u001b[0m\u001b[0m\n",
      "\u001b[0;32m/opt/conda/lib/python3.7/site-packages/sklearn/utils/validation.py\u001b[0m in \u001b[0;36minner_f\u001b[0;34m(*args, **kwargs)\u001b[0m\n\u001b[1;32m     61\u001b[0m             \u001b[0mextra_args\u001b[0m \u001b[0;34m=\u001b[0m \u001b[0mlen\u001b[0m\u001b[0;34m(\u001b[0m\u001b[0margs\u001b[0m\u001b[0;34m)\u001b[0m \u001b[0;34m-\u001b[0m \u001b[0mlen\u001b[0m\u001b[0;34m(\u001b[0m\u001b[0mall_args\u001b[0m\u001b[0;34m)\u001b[0m\u001b[0;34m\u001b[0m\u001b[0;34m\u001b[0m\u001b[0m\n\u001b[1;32m     62\u001b[0m             \u001b[0;32mif\u001b[0m \u001b[0mextra_args\u001b[0m \u001b[0;34m<=\u001b[0m \u001b[0;36m0\u001b[0m\u001b[0;34m:\u001b[0m\u001b[0;34m\u001b[0m\u001b[0;34m\u001b[0m\u001b[0m\n\u001b[0;32m---> 63\u001b[0;31m                 \u001b[0;32mreturn\u001b[0m \u001b[0mf\u001b[0m\u001b[0;34m(\u001b[0m\u001b[0;34m*\u001b[0m\u001b[0margs\u001b[0m\u001b[0;34m,\u001b[0m \u001b[0;34m**\u001b[0m\u001b[0mkwargs\u001b[0m\u001b[0;34m)\u001b[0m\u001b[0;34m\u001b[0m\u001b[0;34m\u001b[0m\u001b[0m\n\u001b[0m\u001b[1;32m     64\u001b[0m \u001b[0;34m\u001b[0m\u001b[0m\n\u001b[1;32m     65\u001b[0m             \u001b[0;31m# extra_args > 0\u001b[0m\u001b[0;34m\u001b[0m\u001b[0;34m\u001b[0m\u001b[0;34m\u001b[0m\u001b[0m\n",
      "\u001b[0;32m/opt/conda/lib/python3.7/site-packages/sklearn/metrics/_classification.py\u001b[0m in \u001b[0;36maccuracy_score\u001b[0;34m(y_true, y_pred, normalize, sample_weight)\u001b[0m\n\u001b[1;32m    200\u001b[0m \u001b[0;34m\u001b[0m\u001b[0m\n\u001b[1;32m    201\u001b[0m     \u001b[0;31m# Compute accuracy for each possible representation\u001b[0m\u001b[0;34m\u001b[0m\u001b[0;34m\u001b[0m\u001b[0;34m\u001b[0m\u001b[0m\n\u001b[0;32m--> 202\u001b[0;31m     \u001b[0my_type\u001b[0m\u001b[0;34m,\u001b[0m \u001b[0my_true\u001b[0m\u001b[0;34m,\u001b[0m \u001b[0my_pred\u001b[0m \u001b[0;34m=\u001b[0m \u001b[0m_check_targets\u001b[0m\u001b[0;34m(\u001b[0m\u001b[0my_true\u001b[0m\u001b[0;34m,\u001b[0m \u001b[0my_pred\u001b[0m\u001b[0;34m)\u001b[0m\u001b[0;34m\u001b[0m\u001b[0;34m\u001b[0m\u001b[0m\n\u001b[0m\u001b[1;32m    203\u001b[0m     \u001b[0mcheck_consistent_length\u001b[0m\u001b[0;34m(\u001b[0m\u001b[0my_true\u001b[0m\u001b[0;34m,\u001b[0m \u001b[0my_pred\u001b[0m\u001b[0;34m,\u001b[0m \u001b[0msample_weight\u001b[0m\u001b[0;34m)\u001b[0m\u001b[0;34m\u001b[0m\u001b[0;34m\u001b[0m\u001b[0m\n\u001b[1;32m    204\u001b[0m     \u001b[0;32mif\u001b[0m \u001b[0my_type\u001b[0m\u001b[0;34m.\u001b[0m\u001b[0mstartswith\u001b[0m\u001b[0;34m(\u001b[0m\u001b[0;34m'multilabel'\u001b[0m\u001b[0;34m)\u001b[0m\u001b[0;34m:\u001b[0m\u001b[0;34m\u001b[0m\u001b[0;34m\u001b[0m\u001b[0m\n",
      "\u001b[0;32m/opt/conda/lib/python3.7/site-packages/sklearn/metrics/_classification.py\u001b[0m in \u001b[0;36m_check_targets\u001b[0;34m(y_true, y_pred)\u001b[0m\n\u001b[1;32m     81\u001b[0m     \u001b[0my_pred\u001b[0m \u001b[0;34m:\u001b[0m \u001b[0marray\u001b[0m \u001b[0;32mor\u001b[0m \u001b[0mindicator\u001b[0m \u001b[0mmatrix\u001b[0m\u001b[0;34m\u001b[0m\u001b[0;34m\u001b[0m\u001b[0m\n\u001b[1;32m     82\u001b[0m     \"\"\"\n\u001b[0;32m---> 83\u001b[0;31m     \u001b[0mcheck_consistent_length\u001b[0m\u001b[0;34m(\u001b[0m\u001b[0my_true\u001b[0m\u001b[0;34m,\u001b[0m \u001b[0my_pred\u001b[0m\u001b[0;34m)\u001b[0m\u001b[0;34m\u001b[0m\u001b[0;34m\u001b[0m\u001b[0m\n\u001b[0m\u001b[1;32m     84\u001b[0m     \u001b[0mtype_true\u001b[0m \u001b[0;34m=\u001b[0m \u001b[0mtype_of_target\u001b[0m\u001b[0;34m(\u001b[0m\u001b[0my_true\u001b[0m\u001b[0;34m)\u001b[0m\u001b[0;34m\u001b[0m\u001b[0;34m\u001b[0m\u001b[0m\n\u001b[1;32m     85\u001b[0m     \u001b[0mtype_pred\u001b[0m \u001b[0;34m=\u001b[0m \u001b[0mtype_of_target\u001b[0m\u001b[0;34m(\u001b[0m\u001b[0my_pred\u001b[0m\u001b[0;34m)\u001b[0m\u001b[0;34m\u001b[0m\u001b[0;34m\u001b[0m\u001b[0m\n",
      "\u001b[0;32m/opt/conda/lib/python3.7/site-packages/sklearn/utils/validation.py\u001b[0m in \u001b[0;36mcheck_consistent_length\u001b[0;34m(*arrays)\u001b[0m\n\u001b[1;32m    261\u001b[0m     \u001b[0;32mif\u001b[0m \u001b[0mlen\u001b[0m\u001b[0;34m(\u001b[0m\u001b[0muniques\u001b[0m\u001b[0;34m)\u001b[0m \u001b[0;34m>\u001b[0m \u001b[0;36m1\u001b[0m\u001b[0;34m:\u001b[0m\u001b[0;34m\u001b[0m\u001b[0;34m\u001b[0m\u001b[0m\n\u001b[1;32m    262\u001b[0m         raise ValueError(\"Found input variables with inconsistent numbers of\"\n\u001b[0;32m--> 263\u001b[0;31m                          \" samples: %r\" % [int(l) for l in lengths])\n\u001b[0m\u001b[1;32m    264\u001b[0m \u001b[0;34m\u001b[0m\u001b[0m\n\u001b[1;32m    265\u001b[0m \u001b[0;34m\u001b[0m\u001b[0m\n",
      "\u001b[0;31mValueError\u001b[0m: Found input variables with inconsistent numbers of samples: [223, 418]"
     ]
    }
   ],
   "source": [
    "clf2.score(X_test_oe, y_test)"
   ]
  },
  {
   "cell_type": "code",
   "execution_count": 27,
   "metadata": {
    "execution": {
     "iopub.execute_input": "2021-03-02T16:29:01.271516Z",
     "iopub.status.busy": "2021-03-02T16:29:01.270649Z",
     "iopub.status.idle": "2021-03-02T16:29:01.284891Z",
     "shell.execute_reply": "2021-03-02T16:29:01.284093Z"
    },
    "papermill": {
     "duration": 0.054571,
     "end_time": "2021-03-02T16:29:01.285093",
     "exception": false,
     "start_time": "2021-03-02T16:29:01.230522",
     "status": "completed"
    },
    "tags": []
   },
   "outputs": [
    {
     "data": {
      "text/html": [
       "<div>\n",
       "<style scoped>\n",
       "    .dataframe tbody tr th:only-of-type {\n",
       "        vertical-align: middle;\n",
       "    }\n",
       "\n",
       "    .dataframe tbody tr th {\n",
       "        vertical-align: top;\n",
       "    }\n",
       "\n",
       "    .dataframe thead th {\n",
       "        text-align: right;\n",
       "    }\n",
       "</style>\n",
       "<table border=\"1\" class=\"dataframe\">\n",
       "  <thead>\n",
       "    <tr style=\"text-align: right;\">\n",
       "      <th></th>\n",
       "      <th>PassengerId</th>\n",
       "      <th>Survived</th>\n",
       "    </tr>\n",
       "  </thead>\n",
       "  <tbody>\n",
       "    <tr>\n",
       "      <th>0</th>\n",
       "      <td>892</td>\n",
       "      <td>0</td>\n",
       "    </tr>\n",
       "    <tr>\n",
       "      <th>1</th>\n",
       "      <td>893</td>\n",
       "      <td>0</td>\n",
       "    </tr>\n",
       "    <tr>\n",
       "      <th>2</th>\n",
       "      <td>894</td>\n",
       "      <td>0</td>\n",
       "    </tr>\n",
       "    <tr>\n",
       "      <th>3</th>\n",
       "      <td>895</td>\n",
       "      <td>0</td>\n",
       "    </tr>\n",
       "    <tr>\n",
       "      <th>4</th>\n",
       "      <td>896</td>\n",
       "      <td>0</td>\n",
       "    </tr>\n",
       "    <tr>\n",
       "      <th>...</th>\n",
       "      <td>...</td>\n",
       "      <td>...</td>\n",
       "    </tr>\n",
       "    <tr>\n",
       "      <th>413</th>\n",
       "      <td>1305</td>\n",
       "      <td>0</td>\n",
       "    </tr>\n",
       "    <tr>\n",
       "      <th>414</th>\n",
       "      <td>1306</td>\n",
       "      <td>1</td>\n",
       "    </tr>\n",
       "    <tr>\n",
       "      <th>415</th>\n",
       "      <td>1307</td>\n",
       "      <td>0</td>\n",
       "    </tr>\n",
       "    <tr>\n",
       "      <th>416</th>\n",
       "      <td>1308</td>\n",
       "      <td>0</td>\n",
       "    </tr>\n",
       "    <tr>\n",
       "      <th>417</th>\n",
       "      <td>1309</td>\n",
       "      <td>0</td>\n",
       "    </tr>\n",
       "  </tbody>\n",
       "</table>\n",
       "<p>418 rows × 2 columns</p>\n",
       "</div>"
      ],
      "text/plain": [
       "     PassengerId  Survived\n",
       "0            892         0\n",
       "1            893         0\n",
       "2            894         0\n",
       "3            895         0\n",
       "4            896         0\n",
       "..           ...       ...\n",
       "413         1305         0\n",
       "414         1306         1\n",
       "415         1307         0\n",
       "416         1308         0\n",
       "417         1309         0\n",
       "\n",
       "[418 rows x 2 columns]"
      ]
     },
     "execution_count": 27,
     "metadata": {},
     "output_type": "execute_result"
    }
   ],
   "source": [
    "df_res = pd.DataFrame({'PassengerId' : df_test['PassengerId'], 'Survived': y_predpred})\n",
    "df_res"
   ]
  },
  {
   "cell_type": "code",
   "execution_count": 28,
   "metadata": {
    "execution": {
     "iopub.execute_input": "2021-03-02T16:29:01.356233Z",
     "iopub.status.busy": "2021-03-02T16:29:01.355461Z",
     "iopub.status.idle": "2021-03-02T16:29:01.363953Z",
     "shell.execute_reply": "2021-03-02T16:29:01.363204Z"
    },
    "papermill": {
     "duration": 0.046599,
     "end_time": "2021-03-02T16:29:01.364117",
     "exception": false,
     "start_time": "2021-03-02T16:29:01.317518",
     "status": "completed"
    },
    "tags": []
   },
   "outputs": [],
   "source": [
    "df_res.to_csv('titanic_submission2.csv')"
   ]
  },
  {
   "cell_type": "code",
   "execution_count": 29,
   "metadata": {
    "execution": {
     "iopub.execute_input": "2021-03-02T16:29:01.438701Z",
     "iopub.status.busy": "2021-03-02T16:29:01.437140Z",
     "iopub.status.idle": "2021-03-02T16:29:01.445153Z",
     "shell.execute_reply": "2021-03-02T16:29:01.444509Z"
    },
    "papermill": {
     "duration": 0.048463,
     "end_time": "2021-03-02T16:29:01.445321",
     "exception": false,
     "start_time": "2021-03-02T16:29:01.396858",
     "status": "completed"
    },
    "tags": []
   },
   "outputs": [
    {
     "name": "stdout",
     "output_type": "stream",
     "text": [
      "----------------------------------------\n",
      "Columns :  ['PassengerId', 'Survived']\n",
      "----------------------------------------\n",
      "Total entries :  418\n",
      "----------------------------------------\n",
      "Missing Values in the columns : \n",
      "\n",
      "PassengerId    0\n",
      "Survived       0\n",
      "dtype: int64\n",
      "----------------------------------------\n",
      "Unique Value Counts : \n",
      "\n",
      "PassengerId    418\n",
      "Survived         2\n",
      "dtype: int64\n",
      "----------------------------------------\n"
     ]
    }
   ],
   "source": [
    "screen_data(df_res)"
   ]
  },
  {
   "cell_type": "code",
   "execution_count": 30,
   "metadata": {
    "execution": {
     "iopub.execute_input": "2021-03-02T16:29:01.521913Z",
     "iopub.status.busy": "2021-03-02T16:29:01.520733Z",
     "iopub.status.idle": "2021-03-02T16:29:01.525905Z",
     "shell.execute_reply": "2021-03-02T16:29:01.525291Z"
    },
    "papermill": {
     "duration": 0.046951,
     "end_time": "2021-03-02T16:29:01.526117",
     "exception": false,
     "start_time": "2021-03-02T16:29:01.479166",
     "status": "completed"
    },
    "tags": []
   },
   "outputs": [
    {
     "data": {
      "text/plain": [
       "0    296\n",
       "1    122\n",
       "Name: Survived, dtype: int64"
      ]
     },
     "execution_count": 30,
     "metadata": {},
     "output_type": "execute_result"
    }
   ],
   "source": [
    "df_res['Survived'].value_counts()"
   ]
  },
  {
   "cell_type": "code",
   "execution_count": null,
   "metadata": {
    "papermill": {
     "duration": 0.033368,
     "end_time": "2021-03-02T16:29:01.593412",
     "exception": false,
     "start_time": "2021-03-02T16:29:01.560044",
     "status": "completed"
    },
    "tags": []
   },
   "outputs": [],
   "source": []
  }
 ],
 "metadata": {
  "kernelspec": {
   "display_name": "Python 3",
   "language": "python",
   "name": "python3"
  },
  "language_info": {
   "codemirror_mode": {
    "name": "ipython",
    "version": 3
   },
   "file_extension": ".py",
   "mimetype": "text/x-python",
   "name": "python",
   "nbconvert_exporter": "python",
   "pygments_lexer": "ipython3",
   "version": "3.7.9"
  },
  "papermill": {
   "default_parameters": {},
   "duration": 13.516571,
   "end_time": "2021-03-02T16:29:02.539980",
   "environment_variables": {},
   "exception": null,
   "input_path": "__notebook__.ipynb",
   "output_path": "__notebook__.ipynb",
   "parameters": {},
   "start_time": "2021-03-02T16:28:49.023409",
   "version": "2.2.2"
  }
 },
 "nbformat": 4,
 "nbformat_minor": 4
}
